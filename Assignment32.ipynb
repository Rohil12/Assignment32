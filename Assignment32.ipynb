{
 "cells": [
  {
   "cell_type": "code",
   "execution_count": 2,
   "id": "728273f8-5cb7-4efd-ab02-5dbd1a018d06",
   "metadata": {},
   "outputs": [],
   "source": [
    "#Q.1\n",
    "# Estimation statistics is a branch of inferential statistics that involves making inferences about population parameters based on sample data. It helps us understand the characteristics of a population without having to examine every individual within it.\n",
    "\n",
    "# Point Estimate\n",
    "# A point estimate is a single value that serves as an estimate of a population parameter. For example, the sample mean (( \\bar{x} )) is a point estimate of the population mean (( \\mu )). Point estimates are straightforward and easy to calculate, but they don’t provide information about the precision or reliability of the estimate1.\n",
    "\n",
    "# Interval Estimate\n",
    "# An interval estimate, on the other hand, provides a range of values within which the population parameter is expected to lie. This range is often expressed as a confidence interval. For example, a 95% confidence interval for a population mean might be \n",
    "\n",
    "# Point Estimate\n",
    " # A point estimate is like a single guess about a population based on a sample. Imagine you want to know the average height of all students in your school. You can’t measure everyone, so you measure a few students and find their average height. This average is your point estimate of the average height of all students.\n",
    "\n",
    "# Interval Estimate\n",
    "#  An interval estimate gives you a range where you think the true average height lies. Instead of saying, “I think the average height is exactly 160 cm,” you might say, “I’m pretty sure the average height is between 158 cm and 162 cm.” This range gives you a better idea of where the true average might be and shows how confident you are in your estimate."
   ]
  },
  {
   "cell_type": "code",
   "execution_count": 4,
   "id": "3cbfe94f-2abd-4f8f-a32b-2e6569bb8507",
   "metadata": {},
   "outputs": [
    {
     "name": "stdout",
     "output_type": "stream",
     "text": [
      "Sample Mean: 166.875\n",
      "95% Confidence Interval: (np.float64(159.83144842645405), np.float64(173.91855157354595))\n"
     ]
    }
   ],
   "source": [
    "#Q.2\n",
    "import scipy.stats as stats\n",
    "import numpy as np\n",
    "\n",
    "def estimate_population_mean(sample, confidence_level=0.95):\n",
    "    # Calculate the sample mean and standard deviation\n",
    "    sample_mean = np.mean(sample)\n",
    "    sample_std = np.std(sample, ddof=1)  # ddof=1 for sample standard deviation\n",
    "    \n",
    "    # Calculate the standard error of the mean\n",
    "    standard_error = sample_std / np.sqrt(len(sample))\n",
    "    \n",
    "    # Calculate the confidence interval\n",
    "    confidence_interval = stats.t.interval(confidence_level, len(sample)-1, loc=sample_mean, scale=standard_error)\n",
    "    \n",
    "    return sample_mean, confidence_interval\n",
    "\n",
    "# Example usage\n",
    "sample_data = [160, 165, 170, 155, 180, 175, 160, 170]\n",
    "mean, conf_interval = estimate_population_mean(sample_data)\n",
    "print(f\"Sample Mean: {mean}\")\n",
    "print(f\"95% Confidence Interval: {conf_interval}\")\n"
   ]
  },
  {
   "cell_type": "code",
   "execution_count": 5,
   "id": "31da2897-b5dc-4ff1-9a03-57266c476ceb",
   "metadata": {},
   "outputs": [
    {
     "data": {
      "text/plain": [
       "'Hypothesis testing is a statistical method used to make decisions or inferences about a population based on sample data. It involves formulating a hypothesis, collecting data, and then determining whether the data supports or refutes the hypothesis.\\n\\nWhy is Hypothesis Testing Used?\\nDecision Making: It helps in making informed decisions by testing assumptions or claims about a population parameter.\\nScientific Research: It is fundamental in scientific research to validate theories or models.\\nQuality Control: In industries, it is used to ensure products meet certain standards.\\nMedical Studies: It helps in determining the effectiveness of treatments or interventions.\\nImportance of Hypothesis Testing\\nObjective Analysis: Provides a structured framework for testing assumptions objectively.\\nError Minimization: Helps in minimizing errors by distinguishing between random variations and significant effects.\\nConfidence in Results: Increases confidence in the results by providing a probabilistic measure of the evidence.\\nGuides Research: Directs future research by confirming or refuting existing theories.'"
      ]
     },
     "execution_count": 5,
     "metadata": {},
     "output_type": "execute_result"
    }
   ],
   "source": [
    "#Q.3\n",
    "\"\"\"Hypothesis testing is a statistical method used to make decisions or inferences about a population based on sample data. It involves formulating a hypothesis, collecting data, and then determining whether the data supports or refutes the hypothesis.\n",
    "\n",
    "Why is Hypothesis Testing Used?\n",
    "Decision Making: It helps in making informed decisions by testing assumptions or claims about a population parameter.\n",
    "Scientific Research: It is fundamental in scientific research to validate theories or models.\n",
    "Quality Control: In industries, it is used to ensure products meet certain standards.\n",
    "Medical Studies: It helps in determining the effectiveness of treatments or interventions.\n",
    "Importance of Hypothesis Testing\n",
    "Objective Analysis: Provides a structured framework for testing assumptions objectively.\n",
    "Error Minimization: Helps in minimizing errors by distinguishing between random variations and significant effects.\n",
    "Confidence in Results: Increases confidence in the results by providing a probabilistic measure of the evidence.\n",
    "Guides Research: Directs future research by confirming or refuting existing theories.\"\"\""
   ]
  },
  {
   "cell_type": "code",
   "execution_count": 6,
   "id": "0f3cfa3a-91e0-48eb-8e3a-a1bbfa44599b",
   "metadata": {},
   "outputs": [],
   "source": [
    "#Q.4\n",
    "# Null hypothesis : The average weight of male college student is equal or less than the average weight of female college student\n",
    "# Alternative hypothesis : The average weight of male college students is greater than the average weight of female college students"
   ]
  },
  {
   "cell_type": "code",
   "execution_count": 10,
   "id": "0f187113-c2c0-4fce-a244-dc9ed6e35a50",
   "metadata": {},
   "outputs": [
    {
     "name": "stdout",
     "output_type": "stream",
     "text": [
      "T-statistic: 4.529108136578383\n",
      "P-value: 0.00026418696631754456\n",
      "Reject Null Hypothesis: True\n"
     ]
    }
   ],
   "source": [
    "#Q.5\n",
    "import numpy as np\n",
    "import scipy.stats as stats\n",
    "\n",
    "def two_sample_t_test(sample1, sample2, alpha=0.05):\n",
    "    \"\"\"\n",
    "    Conduct a two-sample t-test to compare the means of two populations.\n",
    "\n",
    "    Parameters:\n",
    "    sample1 (list or array): Sample data from the first population.\n",
    "    sample2 (list or array): Sample data from the second population.\n",
    "    alpha (float): Significance level (default is 0.05).\n",
    "\n",
    "    Returns:\n",
    "    dict: A dictionary containing the t-statistic, p-value, and test result.\n",
    "    \"\"\"\n",
    "    # Calculate the t-statistic and p-value\n",
    "    t_stat, p_value = stats.ttest_ind(sample1, sample2, equal_var=False)\n",
    "    \n",
    "    # Determine if we reject the null hypothesis\n",
    "    reject_null = p_value < alpha\n",
    "    \n",
    "    return {\n",
    "        't_statistic': t_stat,\n",
    "        'p_value': p_value,\n",
    "        'reject_null': reject_null\n",
    "    }\n",
    "\n",
    "# Example usage:\n",
    "sample1 = [68, 70, 72, 71, 69, 73, 74, 68, 72, 70]\n",
    "sample2 = [65, 67, 66, 64, 68, 69, 70, 66, 67, 65]\n",
    "\n",
    "result = two_sample_t_test(sample1, sample2)\n",
    "print(f\"T-statistic: {result['t_statistic']}\")\n",
    "print(f\"P-value: {result['p_value']}\")\n",
    "print(f\"Reject Null Hypothesis: {result['reject_null']}\")\n"
   ]
  },
  {
   "cell_type": "code",
   "execution_count": 11,
   "id": "75e30fc6-a9d8-4eea-b818-36e1b9e15aa0",
   "metadata": {},
   "outputs": [
    {
     "data": {
      "text/plain": [
       "'Null and Alternative Hypothesis\\nIn hypothesis testing, we formulate two competing hypotheses to make inferences about a population parameter based on sample data:\\n\\n\\nNull Hypothesis (H0\\u200b): This is a statement of no effect, no difference, or no relationship. It is the hypothesis that we aim to test against. The null hypothesis is assumed to be true until evidence suggests otherwise.\\n\\n\\nAlternative Hypothesis (Ha\\u200b): This is a statement that indicates the presence of an effect, a difference, or a relationship. It is what we want to prove or support with the sample data.\\n\\n\\nExamples\\nExample 1: Testing a New Drug\\n\\nNull Hypothesis (H0\\u200b): The new drug has no effect on blood pressure.H0\\u200b:μnew\\xa0drug\\u200b=μplacebo\\u200b\\n\\nAlternative Hypothesis (Ha\\u200b): The new drug lowers blood pressure.Ha\\u200b:μnew\\xa0drug\\u200b<μplacebo\\u200b\\n\\n\\nExample 2: Comparing Average Heights\\n\\nNull Hypothesis (H0\\u200b): The average height of men is equal to the average height of women.H0\\u200b:μmen\\u200b=μwomen\\u200b\\n\\nAlternative Hypothesis (Ha\\u200b): The average height of men is different from the average height of women.Ha\\u200b:μmen\\u200b\\ue020=μwomen\\u200b\\n\\n\\nExample 3: Quality Control in Manufacturing\\n\\nNull Hypothesis (H0\\u200b): The proportion of defective items in a batch is 5%.H0\\u200b:p=0.05\\n\\nAlternative Hypothesis (Ha\\u200b): The proportion of defective items in a batch is not 5%.Ha\\u200b:p\\ue020=0.05\\n\\n\\nImportance\\n\\nNull Hypothesis (H0\\u200b): Provides a baseline or default position that there is no effect or difference.\\nAlternative Hypothesis (Ha\\u200b): Represents the claim or theory that we are trying to find evidence for.'"
      ]
     },
     "execution_count": 11,
     "metadata": {},
     "output_type": "execute_result"
    }
   ],
   "source": [
    "#Q.6\n",
    "\"\"\"Null and Alternative Hypothesis\n",
    "In hypothesis testing, we formulate two competing hypotheses to make inferences about a population parameter based on sample data:\n",
    "\n",
    "\n",
    "Null Hypothesis (H0​): This is a statement of no effect, no difference, or no relationship. It is the hypothesis that we aim to test against. The null hypothesis is assumed to be true until evidence suggests otherwise.\n",
    "\n",
    "\n",
    "Alternative Hypothesis (Ha​): This is a statement that indicates the presence of an effect, a difference, or a relationship. It is what we want to prove or support with the sample data.\n",
    "\n",
    "\n",
    "Examples\n",
    "Example 1: Testing a New Drug\n",
    "\n",
    "Null Hypothesis (H0​): The new drug has no effect on blood pressure.H0​:μnew drug​=μplacebo​\n",
    "\n",
    "Alternative Hypothesis (Ha​): The new drug lowers blood pressure.Ha​:μnew drug​<μplacebo​\n",
    "\n",
    "\n",
    "Example 2: Comparing Average Heights\n",
    "\n",
    "Null Hypothesis (H0​): The average height of men is equal to the average height of women.H0​:μmen​=μwomen​\n",
    "\n",
    "Alternative Hypothesis (Ha​): The average height of men is different from the average height of women.Ha​:μmen​=μwomen​\n",
    "\n",
    "\n",
    "Example 3: Quality Control in Manufacturing\n",
    "\n",
    "Null Hypothesis (H0​): The proportion of defective items in a batch is 5%.H0​:p=0.05\n",
    "\n",
    "Alternative Hypothesis (Ha​): The proportion of defective items in a batch is not 5%.Ha​:p=0.05\n",
    "\n",
    "\n",
    "Importance\n",
    "\n",
    "Null Hypothesis (H0​): Provides a baseline or default position that there is no effect or difference.\n",
    "Alternative Hypothesis (Ha​): Represents the claim or theory that we are trying to find evidence for.\"\"\""
   ]
  },
  {
   "cell_type": "code",
   "execution_count": 12,
   "id": "b7bb0213-9357-4b33-8352-31b9b2aeba46",
   "metadata": {},
   "outputs": [
    {
     "data": {
      "text/plain": [
       "'Steps in Hypothesis Testing\\n\\n\\nState the Hypotheses:\\n\\nNull Hypothesis (H0\\u200b): A statement of no effect or no difference.\\nAlternative Hypothesis (Ha\\u200b): A statement that indicates the presence of an effect or difference.\\n\\n\\n\\nChoose the Significance Level (α):\\n\\nCommon choices are 0.05 (5%), 0.01 (1%), or 0.10 (10%).\\nThis represents the probability of rejecting the null hypothesis when it is actually true (Type I error).\\n\\n\\n\\nCollect Data:\\n\\nGather sample data relevant to the hypotheses.\\n\\n\\n\\nSelect the Appropriate Test:\\n\\nChoose a statistical test based on the type of data and the hypotheses (e.g., t-test, chi-square test, ANOVA).\\n\\n\\n\\nCalculate the Test Statistic:\\n\\nCompute the test statistic using the sample data.\\n\\n\\n\\nDetermine the P-value or Critical Value:\\n\\nP-value: The probability of obtaining a test statistic at least as extreme as the one observed, assuming the null hypothesis is true.\\nCritical Value: A threshold value that the test statistic must exceed to reject the null hypothesis.\\n\\n\\n\\nMake a Decision:\\n\\nReject H0\\u200b: If the p-value is less than or equal to α, or if the test statistic exceeds the critical value.\\nFail to Reject H0\\u200b: If the p-value is greater than α, or if the test statistic does not exceed the critical value.\\n\\n\\n\\nDraw a Conclusion:\\n\\nInterpret the results in the context of the research question.\\nReport whether there is sufficient evidence to support the alternative hypothesis.'"
      ]
     },
     "execution_count": 12,
     "metadata": {},
     "output_type": "execute_result"
    }
   ],
   "source": [
    "#Q.7\n",
    "\"\"\"Steps in Hypothesis Testing\n",
    "\n",
    "\n",
    "State the Hypotheses:\n",
    "\n",
    "Null Hypothesis (H0​): A statement of no effect or no difference.\n",
    "Alternative Hypothesis (Ha​): A statement that indicates the presence of an effect or difference.\n",
    "\n",
    "\n",
    "\n",
    "Choose the Significance Level (α):\n",
    "\n",
    "Common choices are 0.05 (5%), 0.01 (1%), or 0.10 (10%).\n",
    "This represents the probability of rejecting the null hypothesis when it is actually true (Type I error).\n",
    "\n",
    "\n",
    "\n",
    "Collect Data:\n",
    "\n",
    "Gather sample data relevant to the hypotheses.\n",
    "\n",
    "\n",
    "\n",
    "Select the Appropriate Test:\n",
    "\n",
    "Choose a statistical test based on the type of data and the hypotheses (e.g., t-test, chi-square test, ANOVA).\n",
    "\n",
    "\n",
    "\n",
    "Calculate the Test Statistic:\n",
    "\n",
    "Compute the test statistic using the sample data.\n",
    "\n",
    "\n",
    "\n",
    "Determine the P-value or Critical Value:\n",
    "\n",
    "P-value: The probability of obtaining a test statistic at least as extreme as the one observed, assuming the null hypothesis is true.\n",
    "Critical Value: A threshold value that the test statistic must exceed to reject the null hypothesis.\n",
    "\n",
    "\n",
    "\n",
    "Make a Decision:\n",
    "\n",
    "Reject H0​: If the p-value is less than or equal to α, or if the test statistic exceeds the critical value.\n",
    "Fail to Reject H0​: If the p-value is greater than α, or if the test statistic does not exceed the critical value.\n",
    "\n",
    "\n",
    "\n",
    "Draw a Conclusion:\n",
    "\n",
    "Interpret the results in the context of the research question.\n",
    "Report whether there is sufficient evidence to support the alternative hypothesis.\"\"\""
   ]
  },
  {
   "cell_type": "code",
   "execution_count": 13,
   "id": "7a817976-3bc0-4f84-9cb5-d9ce41503b2d",
   "metadata": {},
   "outputs": [
    {
     "data": {
      "text/plain": [
       "'A p-value (probability value) is a measure used in hypothesis testing to help determine the significance of your results. It quantifies the probability of obtaining test results at least as extreme as the observed results, assuming that the null hypothesis is true.\\nSignificance of P-value in Hypothesis Testing\\n\\n\\nDecision Making:\\n\\nThe p-value helps you decide whether to reject the null hypothesis (H0\\u200b).\\nA low p-value (typically ≤ 0.05) indicates strong evidence against the null hypothesis, leading you to reject it.\\nA high p-value (> 0.05) suggests weak evidence against the null hypothesis, so you fail to reject it.\\n\\n\\n\\nInterpreting Results:\\n\\nP-value ≤ α (significance level): Reject the null hypothesis. The results are statistically significant.\\nP-value > α: Fail to reject the null hypothesis. The results are not statistically significant.\\n\\n\\n\\nError Minimization:\\n\\nHelps in minimizing Type I errors (false positives), where you incorrectly reject a true null hypothesis.\\n\\n\\n\\nExample\\nSuppose you are testing whether a new drug is more effective than a placebo:\\n\\nNull Hypothesis (H0\\u200b): The new drug has no effect (mean difference = 0).\\nAlternative Hypothesis (Ha\\u200b): The new drug has an effect (mean difference ≠ 0).\\n\\nAfter conducting the test, you obtain a p-value of 0.03. If your significance level (α) is 0.05:\\n\\nSince 0.03 ≤ 0.05, you reject the null hypothesis and conclude that the new drug has a significant effect.\\n\\nKey Points\\n\\nP-value is not the probability that the null hypothesis is true or false. It only indicates how well the sample data supports the null hypothesis.\\nSignificance Level (α): Commonly set at 0.05, but can vary depending on the context.'"
      ]
     },
     "execution_count": 13,
     "metadata": {},
     "output_type": "execute_result"
    }
   ],
   "source": [
    "#Q.8\n",
    "\"\"\"A p-value (probability value) is a measure used in hypothesis testing to help determine the significance of your results. It quantifies the probability of obtaining test results at least as extreme as the observed results, assuming that the null hypothesis is true.\n",
    "Significance of P-value in Hypothesis Testing\n",
    "\n",
    "\n",
    "Decision Making:\n",
    "\n",
    "The p-value helps you decide whether to reject the null hypothesis (H0​).\n",
    "A low p-value (typically ≤ 0.05) indicates strong evidence against the null hypothesis, leading you to reject it.\n",
    "A high p-value (> 0.05) suggests weak evidence against the null hypothesis, so you fail to reject it.\n",
    "\n",
    "\n",
    "\n",
    "Interpreting Results:\n",
    "\n",
    "P-value ≤ α (significance level): Reject the null hypothesis. The results are statistically significant.\n",
    "P-value > α: Fail to reject the null hypothesis. The results are not statistically significant.\n",
    "\n",
    "\n",
    "\n",
    "Error Minimization:\n",
    "\n",
    "Helps in minimizing Type I errors (false positives), where you incorrectly reject a true null hypothesis.\n",
    "\n",
    "\n",
    "\n",
    "Example\n",
    "Suppose you are testing whether a new drug is more effective than a placebo:\n",
    "\n",
    "Null Hypothesis (H0​): The new drug has no effect (mean difference = 0).\n",
    "Alternative Hypothesis (Ha​): The new drug has an effect (mean difference ≠ 0).\n",
    "\n",
    "After conducting the test, you obtain a p-value of 0.03. If your significance level (α) is 0.05:\n",
    "\n",
    "Since 0.03 ≤ 0.05, you reject the null hypothesis and conclude that the new drug has a significant effect.\n",
    "\n",
    "Key Points\n",
    "\n",
    "P-value is not the probability that the null hypothesis is true or false. It only indicates how well the sample data supports the null hypothesis.\n",
    "Significance Level (α): Commonly set at 0.05, but can vary depending on the context.\"\"\""
   ]
  },
  {
   "cell_type": "code",
   "execution_count": 14,
   "id": "90e61d42-f356-4731-82c6-6ecc33a80a86",
   "metadata": {},
   "outputs": [
    {
     "data": {
      "image/png": "[encoded data removed]",
      "text/plain": [
       "<Figure size 640x480 with 1 Axes>"
      ]
     },
     "metadata": {},
     "output_type": "display_data"
    }
   ],
   "source": [
    "#Q.9\n",
    "import numpy as np\n",
    "import matplotlib.pyplot as plt\n",
    "import scipy.stats as stats\n",
    "\n",
    "# Degrees of freedom\n",
    "df = 10\n",
    "\n",
    "# Generate x values\n",
    "x = np.linspace(-4, 4, 1000)\n",
    "\n",
    "# Generate y values for the t-distribution\n",
    "y = stats.t.pdf(x, df)\n",
    "\n",
    "# Plot the t-distribution\n",
    "plt.plot(x, y, label=f't-distribution (df={df})')\n",
    "plt.title(\"Student's t-Distribution\")\n",
    "plt.xlabel('x')\n",
    "plt.ylabel('Probability Density')\n",
    "plt.legend()\n",
    "plt.grid(True)\n",
    "plt.show()\n"
   ]
  },
  {
   "cell_type": "code",
   "execution_count": 15,
   "id": "836644cd-acab-4d63-99f2-2fb66535155b",
   "metadata": {},
   "outputs": [
    {
     "name": "stdout",
     "output_type": "stream",
     "text": [
      "T-statistic: 4.529108136578382\n",
      "P-value: 0.00025978207608348523\n",
      "Reject Null Hypothesis: True\n"
     ]
    }
   ],
   "source": [
    "#Q.10\n",
    "import numpy as np\n",
    "import scipy.stats as stats\n",
    "\n",
    "def two_sample_t_test(sample1, sample2, alpha=0.05):\n",
    "    \"\"\"\n",
    "    Perform a two-sample t-test for independent samples.\n",
    "\n",
    "    Parameters:\n",
    "    sample1 (list or array): Sample data from the first population.\n",
    "    sample2 (list or array): Sample data from the second population.\n",
    "    alpha (float): Significance level (default is 0.05).\n",
    "\n",
    "    Returns:\n",
    "    dict: A dictionary containing the t-statistic, p-value, and test result.\n",
    "    \"\"\"\n",
    "    # Calculate the t-statistic and p-value\n",
    "    t_stat, p_value = stats.ttest_ind(sample1, sample2, equal_var=True)\n",
    "    \n",
    "    # Determine if we reject the null hypothesis\n",
    "    reject_null = p_value < alpha\n",
    "    \n",
    "    return {\n",
    "        't_statistic': t_stat,\n",
    "        'p_value': p_value,\n",
    "        'reject_null': reject_null\n",
    "    }\n",
    "\n",
    "# Example usage:\n",
    "sample1 = [68, 70, 72, 71, 69, 73, 74, 68, 72, 70]\n",
    "sample2 = [65, 67, 66, 64, 68, 69, 70, 66, 67, 65]\n",
    "\n",
    "result = two_sample_t_test(sample1, sample2)\n",
    "print(f\"T-statistic: {result['t_statistic']}\")\n",
    "print(f\"P-value: {result['p_value']}\")\n",
    "print(f\"Reject Null Hypothesis: {result['reject_null']}\")\n"
   ]
  },
  {
   "cell_type": "code",
   "execution_count": 16,
   "id": "37b4be11-0296-4746-be51-7490dede1ba7",
   "metadata": {},
   "outputs": [
    {
     "data": {
      "text/plain": [
       "'Student’s t-Distribution\\nStudent’s t-distribution is a probability distribution that is used to estimate population parameters when the sample size is small and/or when the population variance is unknown. It is similar to the normal distribution but has heavier tails, meaning it is more prone to producing values that fall far from its mean.\\n\\nKey Characteristics\\nSymmetrical: Like the normal distribution, it is symmetrical around the mean.\\nHeavier Tails: It has heavier tails compared to the normal distribution, which means it is more likely to produce values that fall far from the mean.\\nDegrees of Freedom (df): The shape of the t-distribution depends on the degrees of freedom. As the degrees of freedom increase, the t-distribution approaches the normal distribution.\\nWhen to Use the t-Distribution\\nSmall Sample Sizes: When the sample size is small (typically less than 30).\\nUnknown Population Variance: When the population variance is unknown and has to be estimated from the sample.\\nHypothesis Testing: Commonly used in t-tests to compare sample means.\\nConfidence Intervals: Used to construct confidence intervals for the mean when the sample size is small and the population variance is unknown.\\nExamples of Use\\nOne-Sample t-Test: Testing if the mean of a single sample differs from a known value.\\nTwo-Sample t-Test: Comparing the means of two independent samples.\\nPaired t-Test: Comparing means from the same group at different times.\\nConfidence Intervals: Estimating the range within which a population mean lies based on a sample mean.'"
      ]
     },
     "execution_count": 16,
     "metadata": {},
     "output_type": "execute_result"
    }
   ],
   "source": [
    "# Q.11\n",
    "\"\"\"Student’s t-Distribution\n",
    "Student’s t-distribution is a probability distribution that is used to estimate population parameters when the sample size is small and/or when the population variance is unknown. It is similar to the normal distribution but has heavier tails, meaning it is more prone to producing values that fall far from its mean.\n",
    "\n",
    "Key Characteristics\n",
    "Symmetrical: Like the normal distribution, it is symmetrical around the mean.\n",
    "Heavier Tails: It has heavier tails compared to the normal distribution, which means it is more likely to produce values that fall far from the mean.\n",
    "Degrees of Freedom (df): The shape of the t-distribution depends on the degrees of freedom. As the degrees of freedom increase, the t-distribution approaches the normal distribution.\n",
    "When to Use the t-Distribution\n",
    "Small Sample Sizes: When the sample size is small (typically less than 30).\n",
    "Unknown Population Variance: When the population variance is unknown and has to be estimated from the sample.\n",
    "Hypothesis Testing: Commonly used in t-tests to compare sample means.\n",
    "Confidence Intervals: Used to construct confidence intervals for the mean when the sample size is small and the population variance is unknown.\n",
    "Examples of Use\n",
    "One-Sample t-Test: Testing if the mean of a single sample differs from a known value.\n",
    "Two-Sample t-Test: Comparing the means of two independent samples.\n",
    "Paired t-Test: Comparing means from the same group at different times.\n",
    "Confidence Intervals: Estimating the range within which a population mean lies based on a sample mean.\"\"\""
   ]
  },
  {
   "cell_type": "code",
   "execution_count": 18,
   "id": "aeb6b8a9-2109-4d8f-a8bb-ec23d8eefa27",
   "metadata": {},
   "outputs": [
    {
     "data": {
      "text/plain": [
       "'What is a t-Statistic?\\nA t-statistic is a value used in hypothesis testing to determine whether to reject the null hypothesis. It measures the size of the difference relative to the variation in your sample data. The t-statistic is used in t-tests, which are statistical tests that compare the means of two groups.\\nFormula for t-Statistic\\nThe formula for the t-statistic depends on the type of t-test being performed. Here are the formulas for the most common types:\\nOne-Sample t-Test\\nUsed to compare the sample mean to a known value (population mean).\\nt=s/n\\u200bxˉ−μ\\u200b\\n\\n(\\x08ar{x}): Sample mean\\n(\\\\mu): Population mean (hypothesized)\\n(s): Sample standard deviation\\n(n): Sample size'"
      ]
     },
     "execution_count": 18,
     "metadata": {},
     "output_type": "execute_result"
    }
   ],
   "source": [
    "#Q.12\n",
    "\"\"\"What is a t-Statistic?\n",
    "A t-statistic is a value used in hypothesis testing to determine whether to reject the null hypothesis. It measures the size of the difference relative to the variation in your sample data. The t-statistic is used in t-tests, which are statistical tests that compare the means of two groups.\n",
    "Formula for t-Statistic\n",
    "The formula for the t-statistic depends on the type of t-test being performed. Here are the formulas for the most common types:\n",
    "One-Sample t-Test\n",
    "Used to compare the sample mean to a known value (population mean).\n",
    "t=s/n​xˉ−μ​\n",
    "\n",
    "(\\bar{x}): Sample mean\n",
    "(\\mu): Population mean (hypothesized)\n",
    "(s): Sample standard deviation\n",
    "(n): Sample size\"\"\""
   ]
  },
  {
   "cell_type": "code",
   "execution_count": 19,
   "id": "442be7cc-1981-4ad5-b914-df03e5e4a297",
   "metadata": {},
   "outputs": [
    {
     "name": "stdout",
     "output_type": "stream",
     "text": [
      "95% Confidence Interval: (np.float64(485.79015722521353), np.float64(514.2098427747865))\n"
     ]
    }
   ],
   "source": [
    "#Q.13\n",
    "import numpy as np\n",
    "import scipy.stats as stats\n",
    "\n",
    "# Given data\n",
    "sample_mean = 500\n",
    "sample_std = 50\n",
    "sample_size = 50\n",
    "confidence_level = 0.95\n",
    "\n",
    "# Calculate the standard error\n",
    "standard_error = sample_std / np.sqrt(sample_size)\n",
    "\n",
    "# Find the t-value for the 95% confidence level and 49 degrees of freedom\n",
    "degrees_of_freedom = sample_size - 1\n",
    "t_value = stats.t.ppf((1 + confidence_level) / 2, degrees_of_freedom)\n",
    "\n",
    "# Calculate the margin of error\n",
    "margin_of_error = t_value * standard_error\n",
    "\n",
    "# Calculate the confidence interval\n",
    "confidence_interval = (sample_mean - margin_of_error, sample_mean + margin_of_error)\n",
    "\n",
    "print(f\"95% Confidence Interval: {confidence_interval}\")\n"
   ]
  },
  {
   "cell_type": "code",
   "execution_count": 20,
   "id": "c84fe9fc-2067-49e7-9d04-0aa55bc541cf",
   "metadata": {},
   "outputs": [
    {
     "name": "stdout",
     "output_type": "stream",
     "text": [
      "T-statistic: -6.666666666666667\n",
      "Critical t-value: 1.9842169515086827\n",
      "P-value: 1.5012289189542116e-09\n",
      "Reject Null Hypothesis: True\n"
     ]
    }
   ],
   "source": [
    "#Q.14\n",
    "import numpy as np\n",
    "import scipy.stats as stats\n",
    "\n",
    "# Given data\n",
    "sample_mean = 8\n",
    "population_mean = 10\n",
    "sample_std = 3\n",
    "sample_size = 100\n",
    "alpha = 0.05\n",
    "\n",
    "# Calculate the t-statistic\n",
    "t_statistic = (sample_mean - population_mean) / (sample_std / np.sqrt(sample_size))\n",
    "\n",
    "# Degrees of freedom\n",
    "degrees_of_freedom = sample_size - 1\n",
    "\n",
    "# Critical t-value for a two-tailed test\n",
    "t_critical = stats.t.ppf(1 - alpha/2, degrees_of_freedom)\n",
    "\n",
    "# Calculate the p-value\n",
    "p_value = 2 * (1 - stats.t.cdf(abs(t_statistic), degrees_of_freedom))\n",
    "\n",
    "# Decision\n",
    "reject_null = abs(t_statistic) > t_critical\n",
    "\n",
    "print(f\"T-statistic: {t_statistic}\")\n",
    "print(f\"Critical t-value: {t_critical}\")\n",
    "print(f\"P-value: {p_value}\")\n",
    "print(f\"Reject Null Hypothesis: {reject_null}\")\n"
   ]
  },
  {
   "cell_type": "code",
   "execution_count": 21,
   "id": "94927fae-6330-4bc0-b6d8-bbd7bdfa0fb8",
   "metadata": {},
   "outputs": [
    {
     "name": "stdout",
     "output_type": "stream",
     "text": [
      "T-statistic: -2.0000000000000018\n",
      "Critical t-value: -2.4921594731575762\n",
      "P-value: 0.02846992496829572\n",
      "Reject Null Hypothesis: False\n"
     ]
    }
   ],
   "source": [
    "#Q.15\n",
    "import numpy as np\n",
    "import scipy.stats as stats\n",
    "\n",
    "# Given data\n",
    "population_mean = 5\n",
    "sample_mean = 4.8\n",
    "sample_std = 0.5\n",
    "sample_size = 25\n",
    "alpha = 0.01\n",
    "\n",
    "# Calculate the t-statistic\n",
    "t_statistic = (sample_mean - population_mean) / (sample_std / np.sqrt(sample_size))\n",
    "\n",
    "# Degrees of freedom\n",
    "degrees_of_freedom = sample_size - 1\n",
    "\n",
    "# Critical t-value for a one-tailed test\n",
    "t_critical = stats.t.ppf(alpha, degrees_of_freedom)\n",
    "\n",
    "# Calculate the p-value\n",
    "p_value = stats.t.cdf(t_statistic, degrees_of_freedom)\n",
    "\n",
    "# Decision\n",
    "reject_null = t_statistic < t_critical\n",
    "\n",
    "print(f\"T-statistic: {t_statistic}\")\n",
    "print(f\"Critical t-value: {t_critical}\")\n",
    "print(f\"P-value: {p_value}\")\n",
    "print(f\"Reject Null Hypothesis: {reject_null}\")\n"
   ]
  },
  {
   "cell_type": "code",
   "execution_count": 22,
   "id": "13e1aaa3-ace9-4f7d-8c9a-2c3e5bf12a3f",
   "metadata": {},
   "outputs": [
    {
     "name": "stdout",
     "output_type": "stream",
     "text": [
      "T-statistic: 2.2511258444537408\n",
      "Degrees of Freedom: 54.230639907533885\n",
      "Critical t-value: 2.6695708569864056\n",
      "P-value: 0.02845213338800101\n",
      "Reject Null Hypothesis: False\n"
     ]
    }
   ],
   "source": [
    "#Q.16\n",
    "import numpy as np\n",
    "import scipy.stats as stats\n",
    "\n",
    "# Given data\n",
    "n1 = 30\n",
    "mean1 = 80\n",
    "std1 = 10\n",
    "\n",
    "n2 = 40\n",
    "mean2 = 75\n",
    "std2 = 8\n",
    "\n",
    "alpha = 0.01\n",
    "\n",
    "# Calculate the t-statistic\n",
    "t_statistic = (mean1 - mean2) / np.sqrt((std1**2 / n1) + (std2**2 / n2))\n",
    "\n",
    "# Calculate the degrees of freedom\n",
    "df = ((std1**2 / n1) + (std2**2 / n2))**2 / (((std1**2 / n1)**2 / (n1 - 1)) + ((std2**2 / n2)**2 / (n2 - 1)))\n",
    "\n",
    "# Critical t-value for a two-tailed test\n",
    "t_critical = stats.t.ppf(1 - alpha/2, df)\n",
    "\n",
    "# Calculate the p-value\n",
    "p_value = 2 * (1 - stats.t.cdf(abs(t_statistic), df))\n",
    "\n",
    "# Decision\n",
    "reject_null = abs(t_statistic) > t_critical\n",
    "\n",
    "print(f\"T-statistic: {t_statistic}\")\n",
    "print(f\"Degrees of Freedom: {df}\")\n",
    "print(f\"Critical t-value: {t_critical}\")\n",
    "print(f\"P-value: {p_value}\")\n",
    "print(f\"Reject Null Hypothesis: {reject_null}\")\n"
   ]
  },
  {
   "cell_type": "code",
   "execution_count": 23,
   "id": "6fd0e020-d2b1-41c3-bfc1-34a3b1903f6c",
   "metadata": {},
   "outputs": [
    {
     "name": "stdout",
     "output_type": "stream",
     "text": [
      "99% Confidence Interval: (np.float64(3.4535840896844654), np.float64(4.546415910315535))\n"
     ]
    }
   ],
   "source": [
    "#Q.17\n",
    "import numpy as np\n",
    "import scipy.stats as stats\n",
    "\n",
    "# Given data\n",
    "sample_mean = 4\n",
    "sample_std = 1.5\n",
    "sample_size = 50\n",
    "confidence_level = 0.99\n",
    "\n",
    "# Calculate the standard error\n",
    "standard_error = sample_std / np.sqrt(sample_size)\n",
    "\n",
    "# Find the Z-value for the 99% confidence level\n",
    "z_value = stats.norm.ppf(1 - (1 - confidence_level) / 2)\n",
    "\n",
    "# Calculate the margin of error\n",
    "margin_of_error = z_value * standard_error\n",
    "\n",
    "# Calculate the confidence interval\n",
    "confidence_interval = (sample_mean - margin_of_error, sample_mean + margin_of_error)\n",
    "\n",
    "print(f\"99% Confidence Interval: {confidence_interval}\")\n"
   ]
  },
  {
   "cell_type": "code",
   "execution_count": null,
   "id": "3664aa0c-fd92-4e48-aa5b-e9de4af7d4d0",
   "metadata": {},
   "outputs": [],
   "source": []
  }
 ],
 "metadata": {
  "kernelspec": {
   "display_name": "Python 3 (ipykernel)",
   "language": "python",
   "name": "python3"
  },
  "language_info": {
   "codemirror_mode": {
    "name": "ipython",
    "version": 3
   },
   "file_extension": ".py",
   "mimetype": "text/x-python",
   "name": "python",
   "nbconvert_exporter": "python",
   "pygments_lexer": "ipython3",
   "version": "3.11.3"
  }
 },
 "nbformat": 4,
 "nbformat_minor": 5
}
